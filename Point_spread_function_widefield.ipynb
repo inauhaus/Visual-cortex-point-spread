{
 "cells": [
  {
   "cell_type": "markdown",
   "id": "86890085",
   "metadata": {},
   "source": [
    "# Widefield analysis; point-spread-function\n",
    "\n",
    "This code walks you through the following. 'A-C' generalize to any widefield experiment.  'D' is specific to a retinotopy experiment.  On each trial a bar is flashed on the screen at a different position.  If the bar is horizontal, it varies along the vertical axis and spans the entire width of the screen. If the bar is vertical, it varies along the horizontal axis and spans the entire height of the screen. This allows us to calculate the peak-location and width of the receptive field at each pixel.  This information is then used t\n",
    "\n",
    "A) Loading an experiment. Two objects get built:\n",
    "1. \"analyzer class\" -  built from the .analyzer file (metadata) of the given experiment, which contains all the visual stimulus information and image acquisition information (e.g. time stamps relative to stimuli).  The analyzer class is used in all data acquisition methods, such as two-photon imaging.  \n",
    "2. \"wf_analyzer class\" - has attributes and functions relevant to wide-field analyses specifically. \n",
    "\n",
    "B) Getting the stimulus-evoked average response of each stimulus condition, normalized by a baseline.\n",
    "C) Averaging the response within a specified time window.\n",
    "\n",
    "D) Calculate the retinotopic map.\n",
    "\n",
    "E) Calculate the receptive field width of each pixel.\n",
    "\n",
    "F) Use 'D' and 'E' to calculate the point-spread function in the cortex.\n",
    "\n"
   ]
  },
  {
   "cell_type": "markdown",
   "id": "c59fce33",
   "metadata": {},
   "source": [
    "# Load modules and classes"
   ]
  },
  {
   "cell_type": "code",
   "execution_count": null,
   "id": "212ce525",
   "metadata": {},
   "outputs": [],
   "source": [
    "\"\"\"\n",
    "@author: IN\n",
    "\"\"\"\n",
    "\n",
    "import os\n",
    "import matplotlib.pyplot as plt\n",
    "import numpy as np\n",
    "\n",
    "\n",
    "from analyzer_mod import analyzer #analyzer class\n",
    "from wf_analysis_mod import wf_analyzer  #wf_analyzer class"
   ]
  },
  {
   "cell_type": "markdown",
   "id": "4e336794",
   "metadata": {},
   "source": [
    "# Pick an animal and experiment to analyze. Identify root location of .analyzer file (metadata) and images (data).\n",
    "\n",
    "anim - animal name\n",
    "\n",
    "expt - experiment name\n",
    "\n",
    "ISIflag - intrinsic signal imaging (=1); fluorescence GCaMP imaging (=0).  This sets some of the pre-processing parameters. Unfortunately, this imaging modality information is not something that is reliably identified within the metadata files, but only in the \"notes\".  It could also easily be determined automatically by the statistics of the raw images."
   ]
  },
  {
   "cell_type": "code",
   "execution_count": null,
   "id": "fdbba210",
   "metadata": {},
   "outputs": [],
   "source": [
    "\n",
    "#anim = 'xt7'\n",
    "#expt = 'u009_004'; #epi ret expt\n",
    "#ISIflag = 1 \n",
    "\n",
    "#anim = 'xt8'\n",
    "#expt = 'u003_009' \n",
    "#ISIflag = 1\n",
    "#pixpermm = 79 \n",
    "\n",
    "anim = 'yd3'\n",
    "expt = 'u001_002'\n",
    "pixpermm = 79\n",
    "ISIflag = 0\n",
    "\n",
    "rootanadir = '/Volumes/TOSHIBA EXT/AnalyzerFiles/' #location of analyzer files\n",
    "rootdatadir = '/Volumes/TOSHIBA EXT/ISIData/'      #location of data (images)"
   ]
  },
  {
   "cell_type": "markdown",
   "id": "56061132",
   "metadata": {},
   "source": [
    "# Create the analyzer object from the .analyzer file. \n",
    "i.e. get the metadata. This contains all the information in the GUIs at the experiment terminal. Each attribute is a dictionary:\n",
    "\n",
    "analyzer.M  #Dict of info in the 'MW' GUI.  e.g. analyzer.M['screen_dist'].  \n",
    "analyzer.L  #Dict of info in the 'Looper' GUI.   \n",
    "analyzer.P  #Dict of info in the 'ParamList' GUI. \n",
    "analyzer.looper  #Detailed info of how the trials were played out, for a given random seed.  \n",
    "analyzer.ACQ  #Dict of info in the 'imager' GUI.  Contains the acquisition info, such as image size and acq rate."
   ]
  },
  {
   "cell_type": "code",
   "execution_count": null,
   "id": "c3bb01c0",
   "metadata": {},
   "outputs": [],
   "source": [
    "anafname = anim + '_' + expt + '.analyzer'\n",
    "anapath = os.path.join(*[rootanadir, anim , anafname])\n",
    "\n",
    "analyzerX = analyzer(anapath) "
   ]
  },
  {
   "cell_type": "markdown",
   "id": "9f680f20",
   "metadata": {},
   "source": [
    "# Create the wf_analysis object.  \n",
    "This mostly consists of useful methods for analyzing widefield data.  e.g. wf_analysis.loaddata()"
   ]
  },
  {
   "cell_type": "code",
   "execution_count": null,
   "id": "17d2510d",
   "metadata": {},
   "outputs": [],
   "source": [
    "#Create the widefield analysis object. Uses data file.\n",
    "\n",
    "datapath = os.path.join(*[rootdatadir,anim,expt])  #Just the folder. Each frame is a separate file.\n",
    "\n",
    "wfX = wf_analyzer(datapath,analyzerX)  "
   ]
  },
  {
   "cell_type": "markdown",
   "id": "0ce8f38f",
   "metadata": {},
   "source": [
    "# Set trial averaging window\n",
    "This sets some reasonable values for the given imaging method and trial length.  e.g. ISI is much slower, so the averaging window probably shouldn't start until about 1 sec after stimulus onset.\n",
    "\n",
    "'baselineWin' - The time window (ms) for getting the average image prior to the stimulus-evoked activity.  Zeros is referenced to the beginning of stimulus onset. Positive is after the onset.\n",
    "\n",
    "'responseWin' - The time window (ms) for getting the average image when we expect there to be stimulus-evoked activity.  Zeros is referenced to the beginning of stimulus onset. Positive is after the onset."
   ]
  },
  {
   "cell_type": "code",
   "execution_count": null,
   "id": "6f8be7c4",
   "metadata": {},
   "outputs": [],
   "source": [
    "if ISIflag:\n",
    "    baselineWin = [-500, 500] #ms [start, stop]\n",
    "    responseWin = [1000,  analyzerX.P['stim_time']*1000+2000]\n",
    "\n",
    "\n",
    "else:   #GCaMP\n",
    "    baselineWin = [-500, 0] #ms [start, stop]\n",
    "    responseWin = [100, analyzerX.P['stim_time']*1000+500]"
   ]
  },
  {
   "cell_type": "markdown",
   "id": "1e61ec15",
   "metadata": {},
   "source": [
    "# Get a baseline and response image for each trial"
   ]
  },
  {
   "cell_type": "code",
   "execution_count": null,
   "id": "6aa0e945",
   "metadata": {},
   "outputs": [],
   "source": [
    "\n",
    "RMat = np.zeros((wfX.imsize[0],wfX.imsize[1],analyzerX.ntrials));\n",
    "BMat = np.zeros((wfX.imsize[0],wfX.imsize[1],analyzerX.ntrials));\n",
    "\n",
    "for tno in range(analyzerX.ntrials):  #loop trials\n",
    "    \n",
    "    print(tno)\n",
    "    Rxt = wfX.loadtrial(tno,responseWin,analyzerX)\n",
    "    Bxt = wfX.loadtrial(tno,baselineWin,analyzerX)\n",
    "    \n",
    "    if ISIflag:              #Invert, b/c ISI is a negative signal.\n",
    "        bitdepth = 16;  #Pco Panda\n",
    "        Rxt = 2^bitdepth - Rxt;\n",
    "  \n",
    "        \n",
    "    RMat[:,:,tno] = np.mean(Rxt,axis = 2); #Store the mean response image of this trial\n",
    "    BMat[:,:,tno] = np.mean(Bxt,axis = 2); #Store the mean baseline image of this trial\n"
   ]
  },
  {
   "cell_type": "markdown",
   "id": "ccddd553",
   "metadata": {},
   "source": [
    "# Baseline normalization\n",
    "Usually, we compute the dF/F on every trial."
   ]
  },
  {
   "cell_type": "code",
   "execution_count": null,
   "id": "f906ed6c",
   "metadata": {},
   "outputs": [],
   "source": [
    "#No normalization\n",
    "#RMat2 = RMat   \n",
    "\n",
    "#Use the mean baseline across all trials in the denominator.  This can be more stable.\n",
    "#RMat2 = (RMat-BMat) + mean(BMat,3)  \n",
    "\n",
    "#Compute the dF/F on every trial\n",
    "RMat2 = (RMat-BMat)/BMat "
   ]
  },
  {
   "cell_type": "code",
   "execution_count": null,
   "id": "94ddcdee",
   "metadata": {},
   "outputs": [],
   "source": [
    "# Organize the images by condition number and take mean over the repeats.  \n",
    "# We are left with one image from each condition after this\n",
    "\n",
    "RMat3 = np.zeros((wfX.imsize[0],wfX.imsize[1],analyzerX.nconditions))\n",
    "BMat3 = np.zeros((wfX.imsize[0],wfX.imsize[1],analyzerX.nconditions))\n",
    "\n",
    "for c in range(analyzerX.nconditions):\n",
    "    \n",
    "    nr = analyzerX.nrepeats(c);\n",
    "  \n",
    "    tnos = np.zeros(nr).astype(int)\n",
    "    for r in range(nr):\n",
    "        tnos[r] = analyzerX.trialno(c,r)\n",
    "\n",
    "    RMat3[:,:,c] = np.mean(RMat2[:,:,tnos],axis = 2)  #mean over repeats\n",
    "    BMat3[:,:,c] = np.mean(BMat[:,:,tnos],axis = 2)\n",
    "    \n",
    "    \n",
    "blankflag = 0\n",
    "if analyzerX.loops['conds'][-1]['symbol'][0] == 'blank':\n",
    "    blankflag = 1"
   ]
  },
  {
   "cell_type": "code",
   "execution_count": null,
   "id": "60de3ea1",
   "metadata": {},
   "outputs": [],
   "source": [
    "# All the code up until this point could be applied to any experiment.  \n",
    "# Here is where it starts to assume certain looper variable \n",
    "\n",
    "#get the index within the looper\n",
    "for p in range(len(analyzerX.L['param'])):\n",
    "    if analyzerX.L['param'][p][0] == 's_phase2':\n",
    "        phaseDim = p\n",
    "\n",
    "    if analyzerX.L['param'][p][0] == 'ori2':\n",
    "        oriDim = p\n",
    "\n",
    "#valmat is a matrix containing the looper values for each condition\n",
    "\n",
    "valMat = np.zeros((len(analyzerX.loops['conds'][c]['val']),analyzerX.nconditions-blankflag))\n",
    "                  \n",
    "for c in range(analyzerX.nconditions-blankflag):\n",
    "    for p in range(len(analyzerX.loops['conds'][c]['val'])):\n",
    "        valMat[p,c] = analyzerX.loops['conds'][c]['val'][p]\n",
    "        \n",
    "\n",
    "\n",
    "oridom = list(set(valMat[oriDim,:]))\n",
    "phasedom = list(set(valMat[phaseDim,:]))\n"
   ]
  },
  {
   "cell_type": "code",
   "execution_count": null,
   "id": "eded282e",
   "metadata": {},
   "outputs": [],
   "source": [
    "# Plot mean response to each condition\n",
    "\n",
    "\n",
    "plt.figure()\n",
    "k = 1\n",
    "for ori in range(len(oridom)):\n",
    "    for p in range(len(phasedom)):\n",
    "\n",
    "        a = np.where(valMat[oriDim,:] == oridom[ori])[0]\n",
    "        b = np.where(valMat[phaseDim,:] == phasedom[p])[0]\n",
    "        id = np.intersect1d(a,b)[0]\n",
    "        \n",
    "        imdum = RMat3[:,:,id];\n",
    "        \n",
    "        plt.subplot(len(oridom),len(phasedom),k)\n",
    "  \n",
    "        \n",
    "        plt.imshow(imdum*bw)\n",
    "        \n",
    "        k += 1"
   ]
  }
 ],
 "metadata": {
  "kernelspec": {
   "display_name": "Python 3",
   "language": "python",
   "name": "python3"
  },
  "language_info": {
   "codemirror_mode": {
    "name": "ipython",
    "version": 3
   },
   "file_extension": ".py",
   "mimetype": "text/x-python",
   "name": "python",
   "nbconvert_exporter": "python",
   "pygments_lexer": "ipython3",
   "version": "3.8.8"
  }
 },
 "nbformat": 4,
 "nbformat_minor": 5
}
